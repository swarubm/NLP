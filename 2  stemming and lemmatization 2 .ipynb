{
 "cells": [
  {
   "cell_type": "code",
   "execution_count": 1,
   "id": "a3925e29-1e4e-4e8b-a190-de718973f0d2",
   "metadata": {},
   "outputs": [
    {
     "name": "stderr",
     "output_type": "stream",
     "text": [
      "[nltk_data] Downloading package wordnet to\n",
      "[nltk_data]     C:\\Users\\swaro\\AppData\\Roaming\\nltk_data...\n",
      "[nltk_data]   Package wordnet is already up-to-date!\n",
      "[nltk_data] Downloading package omw-1.4 to\n",
      "[nltk_data]     C:\\Users\\swaro\\AppData\\Roaming\\nltk_data...\n",
      "[nltk_data]   Package omw-1.4 is already up-to-date!\n"
     ]
    },
    {
     "data": {
      "text/plain": [
       "True"
      ]
     },
     "execution_count": 1,
     "metadata": {},
     "output_type": "execute_result"
    }
   ],
   "source": [
    "import nltk\n",
    "nltk.download('wordnet')\n",
    "nltk.download('omw-1.4')\n",
    "from nltk"
   ]
  },
  {
   "cell_type": "code",
   "execution_count": 2,
   "id": "8cadcbe9-77b3-4899-b3e7-fb2438194ba4",
   "metadata": {},
   "outputs": [],
   "source": [
    "from nltk.stem import WordNetLemmatizer,PorterStemmer"
   ]
  },
  {
   "cell_type": "code",
   "execution_count": 3,
   "id": "852ff482-4e0f-4f7a-923d-3ed49eaeef83",
   "metadata": {},
   "outputs": [],
   "source": [
    "stem = PorterStemmer()\n",
    "lam = WordNetLemmatizer()"
   ]
  },
  {
   "cell_type": "markdown",
   "id": "b5862f8d-d6a9-4f71-a75c-99412b4e616b",
   "metadata": {},
   "source": [
    "## lemmatization "
   ]
  },
  {
   "cell_type": "code",
   "execution_count": 4,
   "id": "02859aad-78ba-4303-8595-d3bcf477358a",
   "metadata": {},
   "outputs": [
    {
     "name": "stdout",
     "output_type": "stream",
     "text": [
      "work\n",
      "worker\n",
      "work\n",
      "worked\n"
     ]
    }
   ],
   "source": [
    "print(lam.lemmatize('work'))\n",
    "print(lam.lemmatize('worker'))\n",
    "print(lam.lemmatize('works'))\n",
    "print(lam.lemmatize('worked'))"
   ]
  },
  {
   "cell_type": "markdown",
   "id": "8b50fae7-acf9-4823-b210-fca10fff8288",
   "metadata": {},
   "source": [
    "# stemmatization "
   ]
  },
  {
   "cell_type": "code",
   "execution_count": 5,
   "id": "79f97937-c15c-4d93-b989-2ec9aa0f2c70",
   "metadata": {},
   "outputs": [
    {
     "name": "stdout",
     "output_type": "stream",
     "text": [
      "work\n",
      "worker\n",
      "work\n",
      "work\n"
     ]
    }
   ],
   "source": [
    "print(stem.stem('work'))\n",
    "print(stem.stem('worker'))\n",
    "print(stem.stem('works'))\n",
    "print(stem.stem('worked'))"
   ]
  },
  {
   "cell_type": "code",
   "execution_count": null,
   "id": "1773e51d-c607-4abc-a05c-9810d7896962",
   "metadata": {},
   "outputs": [],
   "source": []
  }
 ],
 "metadata": {
  "kernelspec": {
   "display_name": "Python 3 (ipykernel)",
   "language": "python",
   "name": "python3"
  },
  "language_info": {
   "codemirror_mode": {
    "name": "ipython",
    "version": 3
   },
   "file_extension": ".py",
   "mimetype": "text/x-python",
   "name": "python",
   "nbconvert_exporter": "python",
   "pygments_lexer": "ipython3",
   "version": "3.13.5"
  }
 },
 "nbformat": 4,
 "nbformat_minor": 5
}
