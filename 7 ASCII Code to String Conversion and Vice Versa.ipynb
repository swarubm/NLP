{
  "cells": [
    {
      "cell_type": "markdown",
      "metadata": {
        "id": "view-in-github",
        "colab_type": "text"
      },
      "source": [
        "<a href=\"https://colab.research.google.com/github/swarubm/NLP/blob/main/7%20ASCII%20Code%20to%20String%20Conversion%20and%20Vice%20Versa.ipynb\" target=\"_parent\"><img src=\"https://colab.research.google.com/assets/colab-badge.svg\" alt=\"Open In Colab\"/></a>"
      ]
    },
    {
      "cell_type": "markdown",
      "source": [
        "ASCII Code to String Conversion and Vice Versa"
      ],
      "metadata": {
        "id": "ZQnp-2iUz8QD"
      }
    },
    {
      "cell_type": "code",
      "source": [
        "text=\"The quick brown fox jumps over the lazy dog\"\n",
        "print([{char:ord(char)} for char in text])"
      ],
      "metadata": {
        "id": "fkdg193utw7Y",
        "outputId": "27f4d875-e657-4623-da06-70a8f0a3e4a7",
        "colab": {
          "base_uri": "https://localhost:8080/"
        }
      },
      "execution_count": 1,
      "outputs": [
        {
          "output_type": "stream",
          "name": "stdout",
          "text": [
            "[{'T': 84}, {'h': 104}, {'e': 101}, {' ': 32}, {'q': 113}, {'u': 117}, {'i': 105}, {'c': 99}, {'k': 107}, {' ': 32}, {'b': 98}, {'r': 114}, {'o': 111}, {'w': 119}, {'n': 110}, {' ': 32}, {'f': 102}, {'o': 111}, {'x': 120}, {' ': 32}, {'j': 106}, {'u': 117}, {'m': 109}, {'p': 112}, {'s': 115}, {' ': 32}, {'o': 111}, {'v': 118}, {'e': 101}, {'r': 114}, {' ': 32}, {'t': 116}, {'h': 104}, {'e': 101}, {' ': 32}, {'l': 108}, {'a': 97}, {'z': 122}, {'y': 121}, {' ': 32}, {'d': 100}, {'o': 111}, {'g': 103}]\n"
          ]
        }
      ]
    },
    {
      "cell_type": "code",
      "source": [
        "#To print the character value for 97\n",
        "print(\"The character value of 97 is \",chr(97))\n",
        "#To print the character value of 65\n",
        "print(\"The character value of 65 is \",chr(65))\n",
        "#To print the character value of 93\n",
        "print(\"The character value of 93 is \",chr(93))"
      ],
      "metadata": {
        "id": "LWcuhW3v0IX-",
        "outputId": "d374bc2a-026d-4885-aca6-e19600d6fd55",
        "colab": {
          "base_uri": "https://localhost:8080/"
        }
      },
      "execution_count": 2,
      "outputs": [
        {
          "output_type": "stream",
          "name": "stdout",
          "text": [
            "The character value of 97 is  a\n",
            "The character value of 65 is  A\n",
            "The character value of 93 is  ]\n"
          ]
        }
      ]
    },
    {
      "cell_type": "code",
      "source": [
        "ascii_=[ord(char) for char in text]\n",
        "[chr(asc) for asc in ascii_]"
      ],
      "metadata": {
        "id": "Ks3YnQLZ0Mvp",
        "outputId": "2858721b-48c1-4a05-da6a-b107dca5fe2f",
        "colab": {
          "base_uri": "https://localhost:8080/"
        }
      },
      "execution_count": 6,
      "outputs": [
        {
          "output_type": "execute_result",
          "data": {
            "text/plain": [
              "['T',\n",
              " 'h',\n",
              " 'e',\n",
              " ' ',\n",
              " 'q',\n",
              " 'u',\n",
              " 'i',\n",
              " 'c',\n",
              " 'k',\n",
              " ' ',\n",
              " 'b',\n",
              " 'r',\n",
              " 'o',\n",
              " 'w',\n",
              " 'n',\n",
              " ' ',\n",
              " 'f',\n",
              " 'o',\n",
              " 'x',\n",
              " ' ',\n",
              " 'j',\n",
              " 'u',\n",
              " 'm',\n",
              " 'p',\n",
              " 's',\n",
              " ' ',\n",
              " 'o',\n",
              " 'v',\n",
              " 'e',\n",
              " 'r',\n",
              " ' ',\n",
              " 't',\n",
              " 'h',\n",
              " 'e',\n",
              " ' ',\n",
              " 'l',\n",
              " 'a',\n",
              " 'z',\n",
              " 'y',\n",
              " ' ',\n",
              " 'd',\n",
              " 'o',\n",
              " 'g']"
            ]
          },
          "metadata": {},
          "execution_count": 6
        }
      ]
    },
    {
      "cell_type": "code",
      "source": [
        "ascii_=[ord(char) for char in text]\n",
        "' '.join([chr(asc) for asc in ascii_])"
      ],
      "metadata": {
        "id": "uMtNQUzm0P5c",
        "outputId": "cec0d068-af25-4a00-9370-d7b0ea6b76f8",
        "colab": {
          "base_uri": "https://localhost:8080/",
          "height": 36
        }
      },
      "execution_count": 7,
      "outputs": [
        {
          "output_type": "execute_result",
          "data": {
            "text/plain": [
              "'T h e   q u i c k   b r o w n   f o x   j u m p s   o v e r   t h e   l a z y   d o g'"
            ],
            "application/vnd.google.colaboratory.intrinsic+json": {
              "type": "string"
            }
          },
          "metadata": {},
          "execution_count": 7
        }
      ]
    }
  ],
  "metadata": {
    "colab": {
      "name": "Welcome To Colab",
      "toc_visible": true,
      "provenance": [],
      "include_colab_link": true
    },
    "kernelspec": {
      "display_name": "Python 3",
      "name": "python3"
    }
  },
  "nbformat": 4,
  "nbformat_minor": 0
}