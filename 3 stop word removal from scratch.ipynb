{
 "cells": [
  {
   "cell_type": "code",
   "execution_count": 7,
   "id": "4e0b53c1-f74b-4b1b-ab6e-5d2d50388951",
   "metadata": {},
   "outputs": [
    {
     "name": "stderr",
     "output_type": "stream",
     "text": [
      "[nltk_data] Downloading package stopwords to\n",
      "[nltk_data]     C:\\Users\\swaro\\AppData\\Roaming\\nltk_data...\n",
      "[nltk_data]   Package stopwords is already up-to-date!\n"
     ]
    }
   ],
   "source": [
    "import nltk\n",
    "nltk.download('stopwords')\n",
    "from nltk.corpus import stopwords"
   ]
  },
  {
   "cell_type": "code",
   "execution_count": 9,
   "id": "441f794b-0e3f-444d-9030-d09af43c1ce1",
   "metadata": {
    "scrolled": true
   },
   "outputs": [
    {
     "data": {
      "text/plain": [
       "['a',\n",
       " 'about',\n",
       " 'above',\n",
       " 'after',\n",
       " 'again',\n",
       " 'against',\n",
       " 'ain',\n",
       " 'all',\n",
       " 'am',\n",
       " 'an',\n",
       " 'and',\n",
       " 'any',\n",
       " 'are',\n",
       " 'aren',\n",
       " \"aren't\",\n",
       " 'as',\n",
       " 'at',\n",
       " 'be',\n",
       " 'because',\n",
       " 'been',\n",
       " 'before',\n",
       " 'being',\n",
       " 'below',\n",
       " 'between',\n",
       " 'both',\n",
       " 'but',\n",
       " 'by',\n",
       " 'can',\n",
       " 'couldn',\n",
       " \"couldn't\",\n",
       " 'd',\n",
       " 'did',\n",
       " 'didn',\n",
       " \"didn't\",\n",
       " 'do',\n",
       " 'does',\n",
       " 'doesn',\n",
       " \"doesn't\",\n",
       " 'doing',\n",
       " 'don',\n",
       " \"don't\",\n",
       " 'down',\n",
       " 'during',\n",
       " 'each',\n",
       " 'few',\n",
       " 'for',\n",
       " 'from',\n",
       " 'further',\n",
       " 'had',\n",
       " 'hadn',\n",
       " \"hadn't\",\n",
       " 'has',\n",
       " 'hasn',\n",
       " \"hasn't\",\n",
       " 'have',\n",
       " 'haven',\n",
       " \"haven't\",\n",
       " 'having',\n",
       " 'he',\n",
       " \"he'd\",\n",
       " \"he'll\",\n",
       " 'her',\n",
       " 'here',\n",
       " 'hers',\n",
       " 'herself',\n",
       " \"he's\",\n",
       " 'him',\n",
       " 'himself',\n",
       " 'his',\n",
       " 'how',\n",
       " 'i',\n",
       " \"i'd\",\n",
       " 'if',\n",
       " \"i'll\",\n",
       " \"i'm\",\n",
       " 'in',\n",
       " 'into',\n",
       " 'is',\n",
       " 'isn',\n",
       " \"isn't\",\n",
       " 'it',\n",
       " \"it'd\",\n",
       " \"it'll\",\n",
       " \"it's\",\n",
       " 'its',\n",
       " 'itself',\n",
       " \"i've\",\n",
       " 'just',\n",
       " 'll',\n",
       " 'm',\n",
       " 'ma',\n",
       " 'me',\n",
       " 'mightn',\n",
       " \"mightn't\",\n",
       " 'more',\n",
       " 'most',\n",
       " 'mustn',\n",
       " \"mustn't\",\n",
       " 'my',\n",
       " 'myself',\n",
       " 'needn',\n",
       " \"needn't\",\n",
       " 'no',\n",
       " 'nor',\n",
       " 'not',\n",
       " 'now',\n",
       " 'o',\n",
       " 'of',\n",
       " 'off',\n",
       " 'on',\n",
       " 'once',\n",
       " 'only',\n",
       " 'or',\n",
       " 'other',\n",
       " 'our',\n",
       " 'ours',\n",
       " 'ourselves',\n",
       " 'out',\n",
       " 'over',\n",
       " 'own',\n",
       " 're',\n",
       " 's',\n",
       " 'same',\n",
       " 'shan',\n",
       " \"shan't\",\n",
       " 'she',\n",
       " \"she'd\",\n",
       " \"she'll\",\n",
       " \"she's\",\n",
       " 'should',\n",
       " 'shouldn',\n",
       " \"shouldn't\",\n",
       " \"should've\",\n",
       " 'so',\n",
       " 'some',\n",
       " 'such',\n",
       " 't',\n",
       " 'than',\n",
       " 'that',\n",
       " \"that'll\",\n",
       " 'the',\n",
       " 'their',\n",
       " 'theirs',\n",
       " 'them',\n",
       " 'themselves',\n",
       " 'then',\n",
       " 'there',\n",
       " 'these',\n",
       " 'they',\n",
       " \"they'd\",\n",
       " \"they'll\",\n",
       " \"they're\",\n",
       " \"they've\",\n",
       " 'this',\n",
       " 'those',\n",
       " 'through',\n",
       " 'to',\n",
       " 'too',\n",
       " 'under',\n",
       " 'until',\n",
       " 'up',\n",
       " 've',\n",
       " 'very',\n",
       " 'was',\n",
       " 'wasn',\n",
       " \"wasn't\",\n",
       " 'we',\n",
       " \"we'd\",\n",
       " \"we'll\",\n",
       " \"we're\",\n",
       " 'were',\n",
       " 'weren',\n",
       " \"weren't\",\n",
       " \"we've\",\n",
       " 'what',\n",
       " 'when',\n",
       " 'where',\n",
       " 'which',\n",
       " 'while',\n",
       " 'who',\n",
       " 'whom',\n",
       " 'why',\n",
       " 'will',\n",
       " 'with',\n",
       " 'won',\n",
       " \"won't\",\n",
       " 'wouldn',\n",
       " \"wouldn't\",\n",
       " 'y',\n",
       " 'you',\n",
       " \"you'd\",\n",
       " \"you'll\",\n",
       " 'your',\n",
       " \"you're\",\n",
       " 'yours',\n",
       " 'yourself',\n",
       " 'yourselves',\n",
       " \"you've\"]"
      ]
     },
     "execution_count": 9,
     "metadata": {},
     "output_type": "execute_result"
    }
   ],
   "source": [
    "stopwords.words('english')"
   ]
  },
  {
   "cell_type": "code",
   "execution_count": 12,
   "id": "aee82753-25dc-4c81-9ab4-23a62433dbd5",
   "metadata": {},
   "outputs": [],
   "source": [
    "stopword = stopwords.words('english')"
   ]
  },
  {
   "cell_type": "code",
   "execution_count": 2,
   "id": "557d7a6d-895b-468a-854e-9c53864225ad",
   "metadata": {},
   "outputs": [],
   "source": [
    "txt = 'this not a good time to talk bastard'"
   ]
  },
  {
   "cell_type": "code",
   "execution_count": 3,
   "id": "af386a81-4695-428e-92ac-8c1f674986ca",
   "metadata": {},
   "outputs": [
    {
     "data": {
      "text/plain": [
       "'this not a good time to talk bastard'"
      ]
     },
     "execution_count": 3,
     "metadata": {},
     "output_type": "execute_result"
    }
   ],
   "source": [
    "txt"
   ]
  },
  {
   "cell_type": "code",
   "execution_count": 4,
   "id": "5ed5374b-9a62-4765-87da-b294fa5e3258",
   "metadata": {},
   "outputs": [
    {
     "data": {
      "text/plain": [
       "'This'"
      ]
     },
     "execution_count": 4,
     "metadata": {},
     "output_type": "execute_result"
    }
   ],
   "source": [
    "'This'"
   ]
  },
  {
   "cell_type": "code",
   "execution_count": 5,
   "id": "b7f83b27-9334-4acc-bc7e-d1f166b053ef",
   "metadata": {},
   "outputs": [
    {
     "data": {
      "text/plain": [
       "'this'"
      ]
     },
     "execution_count": 5,
     "metadata": {},
     "output_type": "execute_result"
    }
   ],
   "source": [
    "'this'"
   ]
  },
  {
   "cell_type": "code",
   "execution_count": 13,
   "id": "10e81cf3-ac97-4d23-86c1-4b2d607c7d26",
   "metadata": {},
   "outputs": [
    {
     "name": "stdout",
     "output_type": "stream",
     "text": [
      "198\n"
     ]
    }
   ],
   "source": [
    "print(len(stopword))"
   ]
  },
  {
   "cell_type": "code",
   "execution_count": 16,
   "id": "764863fd-1056-449b-8c1d-66677179a8c6",
   "metadata": {},
   "outputs": [],
   "source": [
    "from nltk.tokenize import word_tokenize"
   ]
  },
  {
   "cell_type": "code",
   "execution_count": 15,
   "id": "a31eba30-9055-4a30-ac7c-b63e08eab3c4",
   "metadata": {},
   "outputs": [
    {
     "name": "stdout",
     "output_type": "stream",
     "text": [
      "t True\n",
      "h False\n",
      "i True\n",
      "s True\n",
      "  False\n",
      "n False\n",
      "o True\n",
      "t True\n",
      "  False\n",
      "a True\n",
      "  False\n",
      "g False\n",
      "o True\n",
      "o True\n",
      "d True\n",
      "  False\n",
      "t True\n",
      "i True\n",
      "m True\n",
      "e False\n",
      "  False\n",
      "t True\n",
      "o True\n",
      "  False\n",
      "t True\n",
      "a True\n",
      "l False\n",
      "k False\n",
      "  False\n",
      "b False\n",
      "a True\n",
      "s True\n",
      "t True\n",
      "a True\n",
      "r False\n",
      "d True\n"
     ]
    }
   ],
   "source": [
    "for word in txt:\n",
    "    print(word, word in stopword)"
   ]
  },
  {
   "cell_type": "code",
   "execution_count": 17,
   "id": "8e49b9ec-6dd3-4c25-91f6-78be7cbbb88b",
   "metadata": {},
   "outputs": [],
   "source": [
    "txt = word_tokenize(txt)"
   ]
  },
  {
   "cell_type": "markdown",
   "id": "07cc0db5-7cb9-4494-bc7c-a0f96fc6f112",
   "metadata": {},
   "source": [
    "# this is lower case thats why true if it is Uppercase That is false "
   ]
  },
  {
   "cell_type": "code",
   "execution_count": 18,
   "id": "822da539-fb35-4375-a497-aec032af938c",
   "metadata": {},
   "outputs": [
    {
     "name": "stdout",
     "output_type": "stream",
     "text": [
      "this True\n",
      "not True\n",
      "a True\n",
      "good False\n",
      "time False\n",
      "to True\n",
      "talk False\n",
      "bastard False\n"
     ]
    }
   ],
   "source": [
    "for word in txt:\n",
    "    print(word, word in stopword)"
   ]
  },
  {
   "cell_type": "code",
   "execution_count": 19,
   "id": "4d977c0d-deda-4577-84a7-5c0454194e15",
   "metadata": {},
   "outputs": [],
   "source": [
    "txt2 = 'my friends were very lazy'"
   ]
  },
  {
   "cell_type": "code",
   "execution_count": 20,
   "id": "e16607ea-c2e9-4c79-92c7-438658109287",
   "metadata": {},
   "outputs": [],
   "source": [
    "txt2 = word_tokenize(txt2)"
   ]
  },
  {
   "cell_type": "code",
   "execution_count": 22,
   "id": "8cfcc144-23f3-4b7e-8cc4-2d9af0d236d8",
   "metadata": {},
   "outputs": [
    {
     "name": "stdout",
     "output_type": "stream",
     "text": [
      "my True\n",
      "friends False\n",
      "were True\n",
      "very True\n",
      "lazy False\n"
     ]
    }
   ],
   "source": [
    "for word in txt2:\n",
    "    print(word, word in stopword)"
   ]
  },
  {
   "cell_type": "code",
   "execution_count": null,
   "id": "0db51517-cbd6-4046-bd36-c89962ac60ba",
   "metadata": {},
   "outputs": [],
   "source": []
  }
 ],
 "metadata": {
  "kernelspec": {
   "display_name": "Python 3 (ipykernel)",
   "language": "python",
   "name": "python3"
  },
  "language_info": {
   "codemirror_mode": {
    "name": "ipython",
    "version": 3
   },
   "file_extension": ".py",
   "mimetype": "text/x-python",
   "name": "python",
   "nbconvert_exporter": "python",
   "pygments_lexer": "ipython3",
   "version": "3.13.5"
  }
 },
 "nbformat": 4,
 "nbformat_minor": 5
}
