{
  "cells": [
    {
      "cell_type": "markdown",
      "metadata": {
        "id": "view-in-github",
        "colab_type": "text"
      },
      "source": [
        "<a href=\"https://colab.research.google.com/github/swarubm/NLP/blob/main/001%20_Getting%20started%20with%20Regular%20Expression%20.ipynb\" target=\"_parent\"><img src=\"https://colab.research.google.com/assets/colab-badge.svg\" alt=\"Open In Colab\"/></a>"
      ]
    },
    {
      "cell_type": "code",
      "source": [
        "print('hello' in 'hello world')\n",
        "print('data' in 'hello world')"
      ],
      "metadata": {
        "id": "3XG81tkB1YZ2",
        "outputId": "deff3bee-6a1b-45a0-8b77-8741608b81fa",
        "colab": {
          "base_uri": "https://localhost:8080/"
        }
      },
      "execution_count": 1,
      "outputs": [
        {
          "output_type": "stream",
          "name": "stdout",
          "text": [
            "True\n",
            "False\n"
          ]
        }
      ]
    },
    {
      "cell_type": "code",
      "source": [
        "import re\n",
        "\n",
        "print(re.search('hello','hello world'))\n",
        "print(re.search('data','hello world'))"
      ],
      "metadata": {
        "id": "nqpdlWM83rD1",
        "outputId": "539a5426-a9f7-4e2e-b4fd-fb277d3b08e7",
        "colab": {
          "base_uri": "https://localhost:8080/"
        }
      },
      "execution_count": 2,
      "outputs": [
        {
          "output_type": "stream",
          "name": "stdout",
          "text": [
            "<re.Match object; span=(0, 5), match='hello'>\n",
            "None\n"
          ]
        }
      ]
    },
    {
      "cell_type": "code",
      "source": [
        "s=re.search('hello','hello world')\n",
        "print(s.span())\n",
        "print(s.start())\n",
        "print(s.end())"
      ],
      "metadata": {
        "id": "HpX7c1Gp3uUU",
        "outputId": "462242f6-0ca4-4368-e0ad-706990f472eb",
        "colab": {
          "base_uri": "https://localhost:8080/"
        }
      },
      "execution_count": 3,
      "outputs": [
        {
          "output_type": "stream",
          "name": "stdout",
          "text": [
            "(0, 5)\n",
            "0\n",
            "5\n"
          ]
        }
      ]
    },
    {
      "cell_type": "code",
      "source": [
        "a= \"hello how are area are you ?\"\n",
        "b=\"are\"\n",
        "re.findall(b,a)"
      ],
      "metadata": {
        "id": "luejjuOd3yf9",
        "outputId": "1336fc13-4d19-46d8-e871-7d2b585b50e0",
        "colab": {
          "base_uri": "https://localhost:8080/"
        }
      },
      "execution_count": 5,
      "outputs": [
        {
          "output_type": "execute_result",
          "data": {
            "text/plain": [
              "['are', 'are', 'are']"
            ]
          },
          "metadata": {},
          "execution_count": 5
        }
      ]
    },
    {
      "cell_type": "code",
      "source": [
        "for i in re.finditer('hello','hello world hello earth hello universe'):\n",
        "  print(i.span())"
      ],
      "metadata": {
        "id": "7CG0g-vz309d",
        "outputId": "e641ce9a-3e25-4600-e3a5-9a654058eb58",
        "colab": {
          "base_uri": "https://localhost:8080/"
        }
      },
      "execution_count": 4,
      "outputs": [
        {
          "output_type": "stream",
          "name": "stdout",
          "text": [
            "(0, 5)\n",
            "(12, 17)\n",
            "(24, 29)\n"
          ]
        }
      ]
    },
    {
      "cell_type": "code",
      "source": [
        "txt1=\"my telephone number is 834-4324-345\"\n",
        "txt2=\"my telephone number is 8344324345\"\n",
        "pattern='\\d{3}-\\d{4}-\\d{3}'\n",
        "print(re.search(pattern,txt1))\n",
        "print(re.search(pattern,txt2))"
      ],
      "metadata": {
        "id": "UrBu_Ayl36vF",
        "outputId": "8ec6602b-24f4-493a-ef6c-9814b4d39bbe",
        "colab": {
          "base_uri": "https://localhost:8080/"
        }
      },
      "execution_count": 6,
      "outputs": [
        {
          "output_type": "stream",
          "name": "stdout",
          "text": [
            "<re.Match object; span=(23, 35), match='834-4324-345'>\n",
            "None\n"
          ]
        },
        {
          "output_type": "stream",
          "name": "stderr",
          "text": [
            "<>:3: SyntaxWarning: invalid escape sequence '\\d'\n",
            "<>:3: SyntaxWarning: invalid escape sequence '\\d'\n",
            "/tmp/ipython-input-173466823.py:3: SyntaxWarning: invalid escape sequence '\\d'\n",
            "  pattern='\\d{3}-\\d{4}-\\d{3}'\n"
          ]
        }
      ]
    },
    {
      "cell_type": "code",
      "source": [
        "print(re.search(pattern,txt1).group())"
      ],
      "metadata": {
        "id": "W9Ej5rNm39A1",
        "outputId": "f9e94e1c-0b56-4841-ca32-6ceae98d662a",
        "colab": {
          "base_uri": "https://localhost:8080/"
        }
      },
      "execution_count": 7,
      "outputs": [
        {
          "output_type": "stream",
          "name": "stdout",
          "text": [
            "834-4324-345\n"
          ]
        }
      ]
    }
  ],
  "metadata": {
    "colab": {
      "name": "Welcome To Colab",
      "toc_visible": true,
      "provenance": [],
      "include_colab_link": true
    },
    "kernelspec": {
      "display_name": "Python 3",
      "name": "python3"
    }
  },
  "nbformat": 4,
  "nbformat_minor": 0
}