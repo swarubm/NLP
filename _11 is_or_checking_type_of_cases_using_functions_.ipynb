{
  "nbformat": 4,
  "nbformat_minor": 0,
  "metadata": {
    "colab": {
      "provenance": [],
      "authorship_tag": "ABX9TyMl6lWLydri7tRWh3FUqfKf",
      "include_colab_link": true
    },
    "kernelspec": {
      "name": "python3",
      "display_name": "Python 3"
    },
    "language_info": {
      "name": "python"
    }
  },
  "cells": [
    {
      "cell_type": "markdown",
      "metadata": {
        "id": "view-in-github",
        "colab_type": "text"
      },
      "source": [
        "<a href=\"https://colab.research.google.com/github/swarubm/NLP/blob/main/11%20is_or_checking_type_of_cases_using_functions_.ipynb\" target=\"_parent\"><img src=\"https://colab.research.google.com/assets/colab-badge.svg\" alt=\"Open In Colab\"/></a>"
      ]
    },
    {
      "cell_type": "markdown",
      "source": [
        "#isalpha()\n",
        "#isdigit()\n",
        "#isalnum()\n",
        "#isnumeric()\n",
        "#isupper()\n",
        "#islower()"
      ],
      "metadata": {
        "id": "LbUMjv8YomvV"
      }
    },
    {
      "cell_type": "code",
      "execution_count": 1,
      "metadata": {
        "colab": {
          "base_uri": "https://localhost:8080/"
        },
        "id": "iKeg3trInJN1",
        "outputId": "c8dfeea0-d182-45ef-d212-04effab2fb61"
      },
      "outputs": [
        {
          "output_type": "stream",
          "name": "stdout",
          "text": [
            "True\n",
            "False\n"
          ]
        }
      ],
      "source": [
        "print('datascience'.isalpha())\n",
        "print('123'.isalpha())"
      ]
    },
    {
      "cell_type": "code",
      "source": [
        "def check_alpha(text):\n",
        "    c = 0  # Initialize a counter to track the number of alphabetic characters\n",
        "    for i in text:  # Loop through each character in the input string 'text'\n",
        "        # Check if the character is an uppercase or lowercase letter\n",
        "        if((ord(i) >= 65 and ord(i) <= 90) or (ord(i) >= 97 and ord(i) <= 122)):\n",
        "            c += 1  # Increment the counter if the character is a letter\n",
        "    # If the total number of characters in the string is equal to the number of letters\n",
        "    # then it means all characters are alphabetic, so return True\n",
        "    if(len(text) == c):\n",
        "        return True\n",
        "    else:\n",
        "        return False  # Return False if there are any non-alphabetic characters\n",
        "\n",
        "# Test cases\n",
        "print(check_alpha('datascience'))  # Expected output: True (all alphabetic)\n",
        "print(check_alpha('1234'))  # Expected output: False (contains non-alphabetic characters)"
      ],
      "metadata": {
        "colab": {
          "base_uri": "https://localhost:8080/"
        },
        "id": "DvlAo0J5oaD0",
        "outputId": "751a4851-8656-4515-94ad-9bdae97f4824"
      },
      "execution_count": 2,
      "outputs": [
        {
          "output_type": "stream",
          "name": "stdout",
          "text": [
            "True\n",
            "False\n"
          ]
        }
      ]
    },
    {
      "cell_type": "code",
      "source": [
        "print('1234'.isdigit())\n",
        "print('machinelearning'.isdigit())"
      ],
      "metadata": {
        "colab": {
          "base_uri": "https://localhost:8080/"
        },
        "id": "oYWaoD34ocU0",
        "outputId": "25a3c90a-0f88-4d8b-dcef-42decf65922b"
      },
      "execution_count": 3,
      "outputs": [
        {
          "output_type": "stream",
          "name": "stdout",
          "text": [
            "True\n",
            "False\n"
          ]
        }
      ]
    },
    {
      "cell_type": "code",
      "source": [
        "def check_digit(text):\n",
        "    c = 0  # Initialize a counter to track the number of digit characters\n",
        "    for i in text:  # Loop through each character in the input string 'text'\n",
        "        # Check if the character is a digit (ASCII values for '0' to '9' are 48 to 57)\n",
        "        if((ord(i) >= 48 and ord(i) <= 57)):\n",
        "            c += 1  # Increment the counter if the character is a digit\n",
        "    # If the total number of characters in the string is equal to the number of digits\n",
        "    # then it means all characters are digits, so return True\n",
        "    if(len(text) == c):\n",
        "        return True\n",
        "    else:\n",
        "        return False  # Return False if there are any non-digit characters\n",
        "\n",
        "# Test cases\n",
        "print(check_digit('datascience'))  # Expected output: False (contains non-digit characters)\n",
        "print(check_digit('1234'))  # Expected output: True (all digits)"
      ],
      "metadata": {
        "colab": {
          "base_uri": "https://localhost:8080/"
        },
        "id": "fdXmXYQOoehV",
        "outputId": "f1627a78-43b3-40bb-a6a3-d46ea147b910"
      },
      "execution_count": 4,
      "outputs": [
        {
          "output_type": "stream",
          "name": "stdout",
          "text": [
            "False\n",
            "True\n"
          ]
        }
      ]
    }
  ]
}
