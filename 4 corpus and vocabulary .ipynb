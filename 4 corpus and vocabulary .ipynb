{
 "cells": [
  {
   "cell_type": "code",
   "execution_count": 2,
   "id": "6abde2e9-a608-40b3-a0dd-f016c2eee76b",
   "metadata": {},
   "outputs": [],
   "source": [
    "corpus = 'India is a vibrant and diverse country known for its rich heritage, cultural traditions, and remarkable history. Home to more than a billion people, it is a land where modern technology blends seamlessly with ancient customs. From the snow-capped Himalayas in the north to the serene beaches in the south, India offers breathtaking natural beauty and varied landscapes. The nation stands out for its festivals, colorful attire, and a unique blend of languages and cuisines. As one of the world’s fastest-growing economies, India’s influence in technology, science, and education continues to expand, making it a key player on the global stage.'"
   ]
  },
  {
   "cell_type": "code",
   "execution_count": 3,
   "id": "3c2cbc39-0ccd-4d33-8e7f-68d0980716bc",
   "metadata": {},
   "outputs": [
    {
     "data": {
      "text/plain": [
       "'India is a vibrant and diverse country known for its rich heritage, cultural traditions, and remarkable history. Home to more than a billion people, it is a land where modern technology blends seamlessly with ancient customs. From the snow-capped Himalayas in the north to the serene beaches in the south, India offers breathtaking natural beauty and varied landscapes. The nation stands out for its festivals, colorful attire, and a unique blend of languages and cuisines. As one of the world’s fastest-growing economies, India’s influence in technology, science, and education continues to expand, making it a key player on the global stage.'"
      ]
     },
     "execution_count": 3,
     "metadata": {},
     "output_type": "execute_result"
    }
   ],
   "source": [
    "corpus"
   ]
  },
  {
   "cell_type": "code",
   "execution_count": 6,
   "id": "a3e70fbe-8fed-41ae-9565-b6022876c2ed",
   "metadata": {},
   "outputs": [],
   "source": [
    "from nltk.tokenize import word_tokenize"
   ]
  },
  {
   "cell_type": "code",
   "execution_count": 7,
   "id": "31bb4bc5-7aac-42a2-83a3-c0ed4183e20e",
   "metadata": {},
   "outputs": [
    {
     "data": {
      "text/plain": [
       "['India',\n",
       " 'is',\n",
       " 'a',\n",
       " 'vibrant',\n",
       " 'and',\n",
       " 'diverse',\n",
       " 'country',\n",
       " 'known',\n",
       " 'for',\n",
       " 'its',\n",
       " 'rich',\n",
       " 'heritage',\n",
       " ',',\n",
       " 'cultural',\n",
       " 'traditions',\n",
       " ',',\n",
       " 'and',\n",
       " 'remarkable',\n",
       " 'history',\n",
       " '.',\n",
       " 'Home',\n",
       " 'to',\n",
       " 'more',\n",
       " 'than',\n",
       " 'a',\n",
       " 'billion',\n",
       " 'people',\n",
       " ',',\n",
       " 'it',\n",
       " 'is',\n",
       " 'a',\n",
       " 'land',\n",
       " 'where',\n",
       " 'modern',\n",
       " 'technology',\n",
       " 'blends',\n",
       " 'seamlessly',\n",
       " 'with',\n",
       " 'ancient',\n",
       " 'customs',\n",
       " '.',\n",
       " 'From',\n",
       " 'the',\n",
       " 'snow-capped',\n",
       " 'Himalayas',\n",
       " 'in',\n",
       " 'the',\n",
       " 'north',\n",
       " 'to',\n",
       " 'the',\n",
       " 'serene',\n",
       " 'beaches',\n",
       " 'in',\n",
       " 'the',\n",
       " 'south',\n",
       " ',',\n",
       " 'India',\n",
       " 'offers',\n",
       " 'breathtaking',\n",
       " 'natural',\n",
       " 'beauty',\n",
       " 'and',\n",
       " 'varied',\n",
       " 'landscapes',\n",
       " '.',\n",
       " 'The',\n",
       " 'nation',\n",
       " 'stands',\n",
       " 'out',\n",
       " 'for',\n",
       " 'its',\n",
       " 'festivals',\n",
       " ',',\n",
       " 'colorful',\n",
       " 'attire',\n",
       " ',',\n",
       " 'and',\n",
       " 'a',\n",
       " 'unique',\n",
       " 'blend',\n",
       " 'of',\n",
       " 'languages',\n",
       " 'and',\n",
       " 'cuisines',\n",
       " '.',\n",
       " 'As',\n",
       " 'one',\n",
       " 'of',\n",
       " 'the',\n",
       " 'world',\n",
       " '’',\n",
       " 's',\n",
       " 'fastest-growing',\n",
       " 'economies',\n",
       " ',',\n",
       " 'India',\n",
       " '’',\n",
       " 's',\n",
       " 'influence',\n",
       " 'in',\n",
       " 'technology',\n",
       " ',',\n",
       " 'science',\n",
       " ',',\n",
       " 'and',\n",
       " 'education',\n",
       " 'continues',\n",
       " 'to',\n",
       " 'expand',\n",
       " ',',\n",
       " 'making',\n",
       " 'it',\n",
       " 'a',\n",
       " 'key',\n",
       " 'player',\n",
       " 'on',\n",
       " 'the',\n",
       " 'global',\n",
       " 'stage',\n",
       " '.']"
      ]
     },
     "execution_count": 7,
     "metadata": {},
     "output_type": "execute_result"
    }
   ],
   "source": [
    "word_tokenize(corpus)"
   ]
  },
  {
   "cell_type": "code",
   "execution_count": 8,
   "id": "5b5bf82d-7e62-47c1-8fc2-19366ea0cd3c",
   "metadata": {},
   "outputs": [],
   "source": [
    "from nltk.corpus import stopwords"
   ]
  },
  {
   "cell_type": "markdown",
   "id": "fc82901d-5c7b-42ea-a3fb-c5da1ab88b18",
   "metadata": {},
   "source": [
    "## Stopword Removal"
   ]
  },
  {
   "cell_type": "code",
   "execution_count": 15,
   "id": "90ff4a4d-8189-4d59-a555-c95abdca83be",
   "metadata": {},
   "outputs": [],
   "source": [
    "words=[]\n",
    "for word in word_tokenize(corpus):\n",
    "    if (word.lower() not in stopwords.words('english')) and (len(word)>=2):\n",
    "        words.append(word.lower())"
   ]
  },
  {
   "cell_type": "code",
   "execution_count": 16,
   "id": "4a7da866-5793-43d2-880a-148453086943",
   "metadata": {},
   "outputs": [
    {
     "data": {
      "text/plain": [
       "['india',\n",
       " 'vibrant',\n",
       " 'diverse',\n",
       " 'country',\n",
       " 'known',\n",
       " 'rich',\n",
       " 'heritage',\n",
       " 'cultural',\n",
       " 'traditions',\n",
       " 'remarkable',\n",
       " 'history',\n",
       " 'home',\n",
       " 'billion',\n",
       " 'people',\n",
       " 'land',\n",
       " 'modern',\n",
       " 'technology',\n",
       " 'blends',\n",
       " 'seamlessly',\n",
       " 'ancient',\n",
       " 'customs',\n",
       " 'snow-capped',\n",
       " 'himalayas',\n",
       " 'north',\n",
       " 'serene',\n",
       " 'beaches',\n",
       " 'south',\n",
       " 'india',\n",
       " 'offers',\n",
       " 'breathtaking',\n",
       " 'natural',\n",
       " 'beauty',\n",
       " 'varied',\n",
       " 'landscapes',\n",
       " 'nation',\n",
       " 'stands',\n",
       " 'festivals',\n",
       " 'colorful',\n",
       " 'attire',\n",
       " 'unique',\n",
       " 'blend',\n",
       " 'languages',\n",
       " 'cuisines',\n",
       " 'one',\n",
       " 'world',\n",
       " 'fastest-growing',\n",
       " 'economies',\n",
       " 'india',\n",
       " 'influence',\n",
       " 'technology',\n",
       " 'science',\n",
       " 'education',\n",
       " 'continues',\n",
       " 'expand',\n",
       " 'making',\n",
       " 'key',\n",
       " 'player',\n",
       " 'global',\n",
       " 'stage']"
      ]
     },
     "execution_count": 16,
     "metadata": {},
     "output_type": "execute_result"
    }
   ],
   "source": [
    "words"
   ]
  },
  {
   "cell_type": "code",
   "execution_count": 17,
   "id": "f17be24c-3cdf-4ec9-ad26-7fde7bfda224",
   "metadata": {},
   "outputs": [
    {
     "data": {
      "text/plain": [
       "59"
      ]
     },
     "execution_count": 17,
     "metadata": {},
     "output_type": "execute_result"
    }
   ],
   "source": [
    "len(words)"
   ]
  },
  {
   "cell_type": "code",
   "execution_count": 25,
   "id": "7cc3ac7f-341a-42c2-9ebd-181a7d3c4c65",
   "metadata": {},
   "outputs": [],
   "source": [
    "vocab = (set(words))"
   ]
  },
  {
   "cell_type": "code",
   "execution_count": 26,
   "id": "6e724981-c1a1-4e6b-a5e6-176f8d5e3456",
   "metadata": {},
   "outputs": [
    {
     "data": {
      "text/plain": [
       "{'ancient',\n",
       " 'attire',\n",
       " 'beaches',\n",
       " 'beauty',\n",
       " 'billion',\n",
       " 'blend',\n",
       " 'blends',\n",
       " 'breathtaking',\n",
       " 'colorful',\n",
       " 'continues',\n",
       " 'country',\n",
       " 'cuisines',\n",
       " 'cultural',\n",
       " 'customs',\n",
       " 'diverse',\n",
       " 'economies',\n",
       " 'education',\n",
       " 'expand',\n",
       " 'fastest-growing',\n",
       " 'festivals',\n",
       " 'global',\n",
       " 'heritage',\n",
       " 'himalayas',\n",
       " 'history',\n",
       " 'home',\n",
       " 'india',\n",
       " 'influence',\n",
       " 'key',\n",
       " 'known',\n",
       " 'land',\n",
       " 'landscapes',\n",
       " 'languages',\n",
       " 'making',\n",
       " 'modern',\n",
       " 'nation',\n",
       " 'natural',\n",
       " 'north',\n",
       " 'offers',\n",
       " 'one',\n",
       " 'people',\n",
       " 'player',\n",
       " 'remarkable',\n",
       " 'rich',\n",
       " 'science',\n",
       " 'seamlessly',\n",
       " 'serene',\n",
       " 'snow-capped',\n",
       " 'south',\n",
       " 'stage',\n",
       " 'stands',\n",
       " 'technology',\n",
       " 'traditions',\n",
       " 'unique',\n",
       " 'varied',\n",
       " 'vibrant',\n",
       " 'world'}"
      ]
     },
     "execution_count": 26,
     "metadata": {},
     "output_type": "execute_result"
    }
   ],
   "source": [
    "vocab"
   ]
  },
  {
   "cell_type": "code",
   "execution_count": 20,
   "id": "a30429dd-9c0e-4d53-a8c5-e0a3b45fa7c0",
   "metadata": {},
   "outputs": [
    {
     "data": {
      "text/plain": [
       "120"
      ]
     },
     "execution_count": 20,
     "metadata": {},
     "output_type": "execute_result"
    }
   ],
   "source": [
    "len(word_tokenize(corpus))"
   ]
  },
  {
   "cell_type": "code",
   "execution_count": 21,
   "id": "87f865cd-43a8-42f4-bd21-091469afaf94",
   "metadata": {},
   "outputs": [],
   "source": [
    "from nltk.tokenize import word_tokenize,sent_tokenize"
   ]
  },
  {
   "cell_type": "code",
   "execution_count": 24,
   "id": "ab27cd31-f45b-4232-8353-c3074dbdd737",
   "metadata": {},
   "outputs": [
    {
     "name": "stdout",
     "output_type": "stream",
     "text": [
      "India is a vibrant and diverse country known for its rich heritage, cultural traditions, and remarkable history.\n",
      "Home to more than a billion people, it is a land where modern technology blends seamlessly with ancient customs.\n",
      "From the snow-capped Himalayas in the north to the serene beaches in the south, India offers breathtaking natural beauty and varied landscapes.\n",
      "The nation stands out for its festivals, colorful attire, and a unique blend of languages and cuisines.\n",
      "As one of the world’s fastest-growing economies, India’s influence in technology, science, and education continues to expand, making it a key player on the global stage.\n"
     ]
    }
   ],
   "source": [
    "for sent in sent_tokenize(corpus):\n",
    "    print(sent)"
   ]
  },
  {
   "cell_type": "code",
   "execution_count": 27,
   "id": "cfde90b7-9348-41df-8645-5a5689851a38",
   "metadata": {},
   "outputs": [
    {
     "data": {
      "text/plain": [
       "'i am swaroop'"
      ]
     },
     "execution_count": 27,
     "metadata": {},
     "output_type": "execute_result"
    }
   ],
   "source": [
    "'i am swaroop'\n",
    "#i = 1\n",
    "#am = 2\n",
    "#swaroop = 4"
   ]
  },
  {
   "cell_type": "code",
   "execution_count": null,
   "id": "a6484b58-e5e1-440d-ac0c-1982d6a1e55e",
   "metadata": {},
   "outputs": [],
   "source": []
  }
 ],
 "metadata": {
  "kernelspec": {
   "display_name": "Python 3 (ipykernel)",
   "language": "python",
   "name": "python3"
  },
  "language_info": {
   "codemirror_mode": {
    "name": "ipython",
    "version": 3
   },
   "file_extension": ".py",
   "mimetype": "text/x-python",
   "name": "python",
   "nbconvert_exporter": "python",
   "pygments_lexer": "ipython3",
   "version": "3.13.5"
  }
 },
 "nbformat": 4,
 "nbformat_minor": 5
}
