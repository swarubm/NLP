{
  "cells": [
    {
      "cell_type": "markdown",
      "metadata": {
        "id": "view-in-github",
        "colab_type": "text"
      },
      "source": [
        "<a href=\"https://colab.research.google.com/github/swarubm/NLP/blob/main/%209%20capitalize().ipynb\" target=\"_parent\"><img src=\"https://colab.research.google.com/assets/colab-badge.svg\" alt=\"Open In Colab\"/></a>"
      ]
    },
    {
      "cell_type": "code",
      "source": [
        "text = \"the quick brown fox jumps over the lazy dog\"\n",
        "print(text.capitalize())  # Output: 'The quick brown fox jumps over the lazy dog'"
      ],
      "metadata": {
        "id": "G8FeCpB8fd7b",
        "outputId": "ffd42f0a-bd99-4a60-e76a-0dd878272cd7",
        "colab": {
          "base_uri": "https://localhost:8080/"
        }
      },
      "execution_count": 1,
      "outputs": [
        {
          "output_type": "stream",
          "name": "stdout",
          "text": [
            "The quick brown fox jumps over the lazy dog\n"
          ]
        }
      ]
    },
    {
      "cell_type": "code",
      "source": [
        "text = \"the quick brown fox jumps over the lazy dog\"\n",
        "first_char = text[0].upper()  # Capitalizing the first letter\n",
        "rest_of_text = text[1:].lower()  # Lowercasing the rest of the string\n",
        "\n",
        "result = first_char + rest_of_text\n",
        "print(result)  # Output: 'The quick brown fox jumps over the lazy dog'"
      ],
      "metadata": {
        "id": "1hkFdJqwhEaq",
        "outputId": "a56907e3-e553-43b2-f54a-127ea160b228",
        "colab": {
          "base_uri": "https://localhost:8080/"
        }
      },
      "execution_count": 2,
      "outputs": [
        {
          "output_type": "stream",
          "name": "stdout",
          "text": [
            "The quick brown fox jumps over the lazy dog\n"
          ]
        }
      ]
    }
  ],
  "metadata": {
    "colab": {
      "name": "Welcome To Colab",
      "toc_visible": true,
      "provenance": [],
      "include_colab_link": true
    },
    "kernelspec": {
      "display_name": "Python 3",
      "name": "python3"
    }
  },
  "nbformat": 4,
  "nbformat_minor": 0
}
