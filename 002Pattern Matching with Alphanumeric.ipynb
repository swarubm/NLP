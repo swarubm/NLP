{
  "cells": [
    {
      "cell_type": "markdown",
      "metadata": {
        "id": "view-in-github",
        "colab_type": "text"
      },
      "source": [
        "<a href=\"https://colab.research.google.com/github/swarubm/NLP/blob/main/002Pattern%20Matching%20with%20Alphanumeric.ipynb\" target=\"_parent\"><img src=\"https://colab.research.google.com/assets/colab-badge.svg\" alt=\"Open In Colab\"/></a>"
      ]
    },
    {
      "cell_type": "markdown",
      "source": [
        "#Pattern Matching with Alphanumeric"
      ],
      "metadata": {
        "id": "ZDWnCwszLcgt"
      }
    },
    {
      "cell_type": "code",
      "source": [
        "import re\n",
        "print(re.findall('at','The rat sat on the mat and attached by a cat'))"
      ],
      "metadata": {
        "colab": {
          "base_uri": "https://localhost:8080/"
        },
        "id": "84-ti8ORLCvN",
        "outputId": "e514e03d-94d9-4a34-b525-0da1d3ae5b21"
      },
      "execution_count": 4,
      "outputs": [
        {
          "output_type": "stream",
          "name": "stdout",
          "text": [
            "['at', 'at', 'at', 'at', 'at']\n"
          ]
        }
      ]
    },
    {
      "cell_type": "code",
      "source": [
        "print(re.findall('.at','The rat sat on the mat and attached by a cat'))"
      ],
      "metadata": {
        "colab": {
          "base_uri": "https://localhost:8080/"
        },
        "id": "5gTpr7RULGuM",
        "outputId": "2e5a9c83-fe58-46de-a949-bb580185c7d2"
      },
      "execution_count": 5,
      "outputs": [
        {
          "output_type": "stream",
          "name": "stdout",
          "text": [
            "['rat', 'sat', 'mat', ' at', 'cat']\n"
          ]
        }
      ]
    },
    {
      "cell_type": "code",
      "source": [
        "print(re.findall('\\d','4 is divisible by 2 and not by 3'))"
      ],
      "metadata": {
        "colab": {
          "base_uri": "https://localhost:8080/"
        },
        "id": "Ge-akWlMLKCl",
        "outputId": "9d06f290-2f4f-48f4-c041-b60561fedc1b"
      },
      "execution_count": 6,
      "outputs": [
        {
          "output_type": "stream",
          "name": "stdout",
          "text": [
            "['4', '2', '3']\n"
          ]
        },
        {
          "output_type": "stream",
          "name": "stderr",
          "text": [
            "<>:1: SyntaxWarning: invalid escape sequence '\\d'\n",
            "<>:1: SyntaxWarning: invalid escape sequence '\\d'\n",
            "/tmp/ipython-input-1968211518.py:1: SyntaxWarning: invalid escape sequence '\\d'\n",
            "  print(re.findall('\\d','4 is divisible by 2 and not by 3'))\n"
          ]
        }
      ]
    },
    {
      "cell_type": "code",
      "source": [
        "print(re.findall('^\\d','4 is divisible by 2 and not by 3'))\n",
        "print(re.findall('^\\d','Hi, 4 is divisible by 2 and not by 3'))"
      ],
      "metadata": {
        "colab": {
          "base_uri": "https://localhost:8080/"
        },
        "id": "Lc7EPOHOLMHj",
        "outputId": "526a2ca0-533d-442e-8e5b-c96984595e9d"
      },
      "execution_count": 7,
      "outputs": [
        {
          "output_type": "stream",
          "name": "stdout",
          "text": [
            "['4']\n",
            "[]\n"
          ]
        },
        {
          "output_type": "stream",
          "name": "stderr",
          "text": [
            "<>:1: SyntaxWarning: invalid escape sequence '\\d'\n",
            "<>:2: SyntaxWarning: invalid escape sequence '\\d'\n",
            "<>:1: SyntaxWarning: invalid escape sequence '\\d'\n",
            "<>:2: SyntaxWarning: invalid escape sequence '\\d'\n",
            "/tmp/ipython-input-1302078874.py:1: SyntaxWarning: invalid escape sequence '\\d'\n",
            "  print(re.findall('^\\d','4 is divisible by 2 and not by 3'))\n",
            "/tmp/ipython-input-1302078874.py:2: SyntaxWarning: invalid escape sequence '\\d'\n",
            "  print(re.findall('^\\d','Hi, 4 is divisible by 2 and not by 3'))\n"
          ]
        }
      ]
    },
    {
      "cell_type": "code",
      "source": [
        "print(re.findall('\\d$','4 is divisible by 2 and not by 3'))\n",
        "print(re.findall('\\d$','4 is divisible by 2 and not by 3 in maths'))"
      ],
      "metadata": {
        "colab": {
          "base_uri": "https://localhost:8080/"
        },
        "id": "hhcYGYqRLOWb",
        "outputId": "fca433a7-62f6-4e33-a8e3-cbaf36a552e4"
      },
      "execution_count": 8,
      "outputs": [
        {
          "output_type": "stream",
          "name": "stdout",
          "text": [
            "['3']\n",
            "[]\n"
          ]
        },
        {
          "output_type": "stream",
          "name": "stderr",
          "text": [
            "<>:1: SyntaxWarning: invalid escape sequence '\\d'\n",
            "<>:2: SyntaxWarning: invalid escape sequence '\\d'\n",
            "<>:1: SyntaxWarning: invalid escape sequence '\\d'\n",
            "<>:2: SyntaxWarning: invalid escape sequence '\\d'\n",
            "/tmp/ipython-input-1089431435.py:1: SyntaxWarning: invalid escape sequence '\\d'\n",
            "  print(re.findall('\\d$','4 is divisible by 2 and not by 3'))\n",
            "/tmp/ipython-input-1089431435.py:2: SyntaxWarning: invalid escape sequence '\\d'\n",
            "  print(re.findall('\\d$','4 is divisible by 2 and not by 3 in maths'))\n"
          ]
        }
      ]
    },
    {
      "cell_type": "code",
      "source": [
        "print(re.findall('[A-Z]','Welcome to GFG 1'))\n",
        "print(re.findall('[a-z]','Welcome to GFG 1'))\n",
        "print(re.findall('[0-9]','Welcome to GFG 1'))\n",
        "print(re.findall('[A-Za-z]','Welcome to GFG 1'))\n",
        "print(re.findall('[A-Za-z0-9]','Welcome to GFG 1'))"
      ],
      "metadata": {
        "colab": {
          "base_uri": "https://localhost:8080/"
        },
        "id": "1GoG8_cCLQTU",
        "outputId": "e142a121-f5ed-46ef-e262-b0d47401c05e"
      },
      "execution_count": 9,
      "outputs": [
        {
          "output_type": "stream",
          "name": "stdout",
          "text": [
            "['W', 'G', 'F', 'G']\n",
            "['e', 'l', 'c', 'o', 'm', 'e', 't', 'o']\n",
            "['1']\n",
            "['W', 'e', 'l', 'c', 'o', 'm', 'e', 't', 'o', 'G', 'F', 'G']\n",
            "['W', 'e', 'l', 'c', 'o', 'm', 'e', 't', 'o', 'G', 'F', 'G', '1']\n"
          ]
        }
      ]
    }
  ],
  "metadata": {
    "colab": {
      "name": "Welcome To Colab",
      "toc_visible": true,
      "provenance": [],
      "include_colab_link": true
    },
    "kernelspec": {
      "display_name": "Python 3",
      "name": "python3"
    }
  },
  "nbformat": 4,
  "nbformat_minor": 0
}