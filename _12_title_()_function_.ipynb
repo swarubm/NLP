{
  "nbformat": 4,
  "nbformat_minor": 0,
  "metadata": {
    "colab": {
      "provenance": [],
      "authorship_tag": "ABX9TyOhEU8zhTzVt/DVqOA8mkZ1",
      "include_colab_link": true
    },
    "kernelspec": {
      "name": "python3",
      "display_name": "Python 3"
    },
    "language_info": {
      "name": "python"
    }
  },
  "cells": [
    {
      "cell_type": "markdown",
      "metadata": {
        "id": "view-in-github",
        "colab_type": "text"
      },
      "source": [
        "<a href=\"https://colab.research.google.com/github/swarubm/NLP/blob/main/_12_title_()_function_.ipynb\" target=\"_parent\"><img src=\"https://colab.research.google.com/assets/colab-badge.svg\" alt=\"Open In Colab\"/></a>"
      ]
    },
    {
      "cell_type": "code",
      "execution_count": 1,
      "metadata": {
        "colab": {
          "base_uri": "https://localhost:8080/"
        },
        "id": "8XjGc6o1qVLx",
        "outputId": "f09c76d4-abcb-4547-a21c-de77ff341546"
      },
      "outputs": [
        {
          "output_type": "stream",
          "name": "stdout",
          "text": [
            "Hello Everyone Welcome To Gfg\n"
          ]
        }
      ],
      "source": [
        "txt=\"Hello everyone welcome to GFG\"\n",
        "print(txt.title())"
      ]
    },
    {
      "cell_type": "code",
      "source": [
        "def title(text):\n",
        "    # Initialize an empty list to store the words with title case\n",
        "    output = []\n",
        "\n",
        "    # Loop through each word in the input text\n",
        "    for word in text.split(' '):\n",
        "        # Append the word with the first letter capitalized and the rest in lowercase\n",
        "        output.append(word[0].upper() + word[1:].lower())\n",
        "\n",
        "    # Join the words into a single string and return the result\n",
        "    return ' '.join(output)\n",
        "\n",
        "# Test the function with a sample sentence\n",
        "print(title(\"let us study machine learning today\"))"
      ],
      "metadata": {
        "colab": {
          "base_uri": "https://localhost:8080/"
        },
        "id": "BsvoNIu7sVgH",
        "outputId": "4ffb0aec-6db0-4e74-e600-a50a16ad80de"
      },
      "execution_count": 2,
      "outputs": [
        {
          "output_type": "stream",
          "name": "stdout",
          "text": [
            "Let Us Study Machine Learning Today\n"
          ]
        }
      ]
    }
  ]
}