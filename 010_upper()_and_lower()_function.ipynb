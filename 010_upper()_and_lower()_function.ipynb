{
  "nbformat": 4,
  "nbformat_minor": 0,
  "metadata": {
    "colab": {
      "provenance": [],
      "authorship_tag": "ABX9TyO6LesSJ16FYw4XtJC0OQQe",
      "include_colab_link": true
    },
    "kernelspec": {
      "name": "python3",
      "display_name": "Python 3"
    },
    "language_info": {
      "name": "python"
    }
  },
  "cells": [
    {
      "cell_type": "markdown",
      "metadata": {
        "id": "view-in-github",
        "colab_type": "text"
      },
      "source": [
        "<a href=\"https://colab.research.google.com/github/swarubm/NLP/blob/main/upper()_and_lower()_function.ipynb\" target=\"_parent\"><img src=\"https://colab.research.google.com/assets/colab-badge.svg\" alt=\"Open In Colab\"/></a>"
      ]
    },
    {
      "cell_type": "code",
      "execution_count": 1,
      "metadata": {
        "colab": {
          "base_uri": "https://localhost:8080/"
        },
        "id": "tJz_R0_KkK_I",
        "outputId": "0dbd16a3-2a14-4665-f730-788b047920b0"
      },
      "outputs": [
        {
          "output_type": "stream",
          "name": "stdout",
          "text": [
            "Converting it into Upper  HELLO HOW ARE YOU\n",
            "Converting it into Lower  hello how are you\n"
          ]
        }
      ],
      "source": [
        "txt='hello how are you'\n",
        "print(\"Converting it into Upper \",txt.upper())\n",
        "print(\"Converting it into Lower \",txt.lower())"
      ]
    },
    {
      "cell_type": "code",
      "source": [
        "def upper(text):\n",
        "    string = ''\n",
        "    for char in text:\n",
        "        # Check if the character is a lowercase letter (ASCII range 97-122)\n",
        "        if ord(char) >= 97 and ord(char) <= 122:\n",
        "            # Convert to uppercase by subtracting 32 from ASCII value\n",
        "            string += chr(ord(char) - 32)\n",
        "        else:\n",
        "            # Add the character as is if it's not a lowercase letter\n",
        "            string += char\n",
        "    return string\n",
        "\n",
        "def lower(text):\n",
        "    string = ''\n",
        "    for char in text:\n",
        "        # Check if the character is an uppercase letter (ASCII range 65-90)\n",
        "        if ord(char) >= 65 and ord(char) <= 90:\n",
        "            # Convert to lowercase by adding 32 to ASCII value\n",
        "            string += chr(ord(char) + 32)\n",
        "        else:\n",
        "            # Add the character as is if it's not an uppercase letter\n",
        "            string += char\n",
        "    return string\n",
        "\n",
        "# Test the functions with sample strings\n",
        "print(upper('delhi'))  # Output: 'DELHI'\n",
        "print(lower('CARTOON'))  # Output: 'cartoon'"
      ],
      "metadata": {
        "colab": {
          "base_uri": "https://localhost:8080/"
        },
        "id": "Ha1scx71kPgT",
        "outputId": "d4c0b0d6-995b-4b87-a263-3229e17cc9b4"
      },
      "execution_count": 2,
      "outputs": [
        {
          "output_type": "stream",
          "name": "stdout",
          "text": [
            "DELHI\n",
            "cartoon\n"
          ]
        }
      ]
    }
  ]
}
